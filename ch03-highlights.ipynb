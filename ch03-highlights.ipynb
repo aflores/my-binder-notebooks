{
  "nbformat": 4,
  "nbformat_minor": 0,
  "metadata": {
    "colab": {
      "name": "Untitled6.ipynb",
      "provenance": [],
      "authorship_tag": "ABX9TyNSj86UkK489sv9WjrG/f3s",
      "include_colab_link": true
    },
    "kernelspec": {
      "name": "python3",
      "display_name": "Python 3"
    }
  },
  "cells": [
    {
      "cell_type": "markdown",
      "metadata": {
        "id": "view-in-github",
        "colab_type": "text"
      },
      "source": [
        "<a href=\"https://colab.research.google.com/github/aflores/my-binder-notebooks/blob/main/ch03-highlights.ipynb\" target=\"_parent\"><img src=\"https://colab.research.google.com/assets/colab-badge.svg\" alt=\"Open In Colab\"/></a>"
      ]
    },
    {
      "cell_type": "code",
      "metadata": {
        "id": "tDgvFiqla9fz"
      },
      "source": [
        "# \n",
        "# Notes from Chapter 3 - Linear Regression and Beyond\n",
        "#\n",
        "# \n",
        "#\n",
        "#"
      ],
      "execution_count": null,
      "outputs": []
    },
    {
      "cell_type": "code",
      "metadata": {
        "colab": {
          "base_uri": "https://localhost:8080/",
          "height": 281
        },
        "id": "SwFim1MbbCjO",
        "outputId": "f3667bf4-5cac-46d6-a4fc-15dfa814e563"
      },
      "source": [
        "import numpy as np\n",
        "import tensorflow as tf\n",
        "import matplotlib.pyplot as plt\n",
        "\n",
        "x_train = np.linspace(-1, 1, 101)\n",
        "y_train = 2 * x_train + np.random.randn(*x_train.shape) * 0.33\n",
        "\n",
        "plt.title(\"Scatter plot of y = 2x + (noise)\")\n",
        "plt.scatter(x_train, y_train)\n",
        "plt.show()\n"
      ],
      "execution_count": 25,
      "outputs": [
        {
          "output_type": "display_data",
          "data": {
            "image/png": "[encoded data removed]",
            "text/plain": [
              "<Figure size 432x288 with 1 Axes>"
            ]
          },
          "metadata": {
            "tags": [],
            "needs_background": "light"
          }
        }
      ]
    },
    {
      "cell_type": "markdown",
      "metadata": {
        "id": "Uzr6bLlTE2g6"
      },
      "source": [
        "# Linear Regression\n",
        "\n",
        "Find the value of 'w' such that the cost function is minimal"
      ]
    },
    {
      "cell_type": "code",
      "metadata": {
        "id": "VizARm3PFVU9"
      },
      "source": [
        "learning_rate = 0.01\n",
        "training_epochs = 100"
      ],
      "execution_count": 26,
      "outputs": []
    },
    {
      "cell_type": "code",
      "metadata": {
        "id": "1SXvO5ybbdlE"
      },
      "source": [
        "X = tf.constant(x_train, dtype=tf.float32)\n",
        "Y = tf.constant(y_train, dtype=tf.float32)\n",
        "w = tf.Variable(0., name=\"weights\", dtype=tf.float32)\n",
        "\n",
        "cost = lambda: tf.square(Y - tf.multiply(X, w))"
      ],
      "execution_count": 27,
      "outputs": []
    },
    {
      "cell_type": "code",
      "metadata": {
        "id": "Aw9IL76kE4z0"
      },
      "source": [
        "train_op = tf.keras.optimizers.SGD(learning_rate)\n",
        "\n",
        "for _ in range(training_epochs):\n",
        "    step_count = train_op.minimize(cost, w)\n",
        "    # print(w.numpy())"
      ],
      "execution_count": 28,
      "outputs": []
    },
    {
      "cell_type": "code",
      "metadata": {
        "colab": {
          "base_uri": "https://localhost:8080/"
        },
        "id": "k9MGrxTTFMYC",
        "outputId": "9f19edf5-1a0a-4087-eb6f-80af6a8a5fec"
      },
      "source": [
        "val1 = w.value()\n",
        "print(\"Prediction: {}\".format(val1))"
      ],
      "execution_count": 29,
      "outputs": [
        {
          "output_type": "stream",
          "text": [
            "Prediction: 1.9913421869277954\n"
          ],
          "name": "stdout"
        }
      ]
    },
    {
      "cell_type": "code",
      "metadata": {
        "colab": {
          "base_uri": "https://localhost:8080/",
          "height": 265
        },
        "id": "55kpFROUFlNS",
        "outputId": "aa57ea8d-11f6-4e75-dc75-fdabdf791278"
      },
      "source": [
        "plt.scatter(x_train, y_train)\n",
        "\n",
        "# plot the line with based on the predicted value of w\n",
        "y_learned = x_train * val1\n",
        "\n",
        "plt.plot(x_train, y_learned, 'r')\n",
        "plt.show()"
      ],
      "execution_count": 30,
      "outputs": [
        {
          "output_type": "display_data",
          "data": {
            "image/png": "[encoded data removed]",
            "text/plain": [
              "<Figure size 432x288 with 1 Axes>"
            ]
          },
          "metadata": {
            "tags": [],
            "needs_background": "light"
          }
        }
      ]
    },
    {
      "cell_type": "markdown",
      "metadata": {
        "id": "3wAnmZnANyPj"
      },
      "source": [
        "# Polinomial Model"
      ]
    },
    {
      "cell_type": "code",
      "metadata": {
        "id": "-VDai3xrFpIr"
      },
      "source": [
        "learning_rate = 0.0085\n",
        "\n",
        "# \"momentum\" accelerates gradient descent in the \n",
        "# relevant direction and dampens oscillations.\n",
        "# Used for the Keras gradient descent implementation\n",
        "momentum = 0.5\n",
        "training_epochs = 40"
      ],
      "execution_count": 31,
      "outputs": []
    },
    {
      "cell_type": "code",
      "metadata": {
        "id": "lPicztkwPIvI"
      },
      "source": [
        "trX = np.linspace(-1, 1, 101)\n",
        "iterations = 0\n",
        "num_coeffs = 6\n",
        "trY_coeffs = [1, 2, 3, 4, 5, 6]\n",
        "trY = 0"
      ],
      "execution_count": 68,
      "outputs": []
    },
    {
      "cell_type": "code",
      "metadata": {
        "id": "mnRQgZmUPPAh"
      },
      "source": [
        "for i in range(num_coeffs):\n",
        "    trY += trY_coeffs[i] * np.power(trX, i)\n",
        "trY += np.random.randn(*trX.shape) * 1.5"
      ],
      "execution_count": 69,
      "outputs": []
    },
    {
      "cell_type": "code",
      "metadata": {
        "colab": {
          "base_uri": "https://localhost:8080/",
          "height": 265
        },
        "id": "IJ5hDQUoPTJm",
        "outputId": "bae211fe-fcec-45a5-e2c1-b00fb07c61a3"
      },
      "source": [
        "plt.scatter(trX, trY)\n",
        "plt.show()"
      ],
      "execution_count": 70,
      "outputs": [
        {
          "output_type": "display_data",
          "data": {
            "image/png": "[encoded data removed]",
            "text/plain": [
              "<Figure size 432x288 with 1 Axes>"
            ]
          },
          "metadata": {
            "tags": [],
            "needs_background": "light"
          }
        }
      ]
    },
    {
      "cell_type": "code",
      "metadata": {
        "id": "3eUy2XtMPhzD"
      },
      "source": [
        "X = tf.constant(trX, dtype=tf.float32)\n",
        "Y = tf.constant(trY, dtype=tf.float32)\n",
        "w = tf.Variable([0.] * num_coeffs, name='parameters')"
      ],
      "execution_count": 71,
      "outputs": []
    },
    {
      "cell_type": "code",
      "metadata": {
        "id": "iQ4zngnvP53S"
      },
      "source": [
        "model = lambda _X, _w: tf.add_n([tf.multiply(_w[i], tf.pow(_X, i)) for i in range(num_coeffs)])\n",
        "y_model = lambda: model(X, w)\n",
        "cost = lambda: tf.pow(Y - y_model(), 2)"
      ],
      "execution_count": 72,
      "outputs": []
    },
    {
      "cell_type": "code",
      "metadata": {
        "id": "8YxzZqmVP9A5"
      },
      "source": [
        "train_op = tf.keras.optimizers.SGD(learning_rate, momentum=momentum)"
      ],
      "execution_count": 73,
      "outputs": []
    },
    {
      "cell_type": "code",
      "metadata": {
        "colab": {
          "base_uri": "https://localhost:8080/"
        },
        "id": "n-zmmJp7QEdG",
        "outputId": "12eda22d-930c-410e-9bc5-b54165f07716"
      },
      "source": [
        "for _ in range(training_epochs):\n",
        "    step = train_op.minimize(cost, w)\n",
        "w_val = w.value()\n",
        "\n",
        "print(\"Weights after training: \\n\")\n",
        "print(w_val.numpy())"
      ],
      "execution_count": 74,
      "outputs": [
        {
          "output_type": "stream",
          "text": [
            "Weights after training: \n",
            "\n",
            "[1.2010685 1.3341976 3.6791415 5.5254703 3.6531122 5.6348143]\n"
          ],
          "name": "stdout"
        }
      ]
    },
    {
      "cell_type": "code",
      "metadata": {
        "colab": {
          "base_uri": "https://localhost:8080/",
          "height": 265
        },
        "id": "fLFrO1_CQIDu",
        "outputId": "aae3660a-48b0-4a61-b718-104c61b0ebdc"
      },
      "source": [
        "plt.scatter(trX, trY)\n",
        "trY2 = 0\n",
        "\n",
        "for i in range(num_coeffs):\n",
        "    trY2 += w_val[i] * np.power(trX, i)\n",
        "    \n",
        "plt.plot(trX, trY2, 'r')\n",
        "plt.show()"
      ],
      "execution_count": 75,
      "outputs": [
        {
          "output_type": "display_data",
          "data": {
            "image/png": "[encoded data removed]",
            "text/plain": [
              "<Figure size 432x288 with 1 Axes>"
            ]
          },
          "metadata": {
            "tags": [],
            "needs_background": "light"
          }
        }
      ]
    },
    {
      "cell_type": "code",
      "metadata": {
        "id": "DFVRbpLIQM4M"
      },
      "source": [
        ""
      ],
      "execution_count": null,
      "outputs": []
    }
  ]
}