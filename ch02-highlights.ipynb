{
  "nbformat": 4,
  "nbformat_minor": 0,
  "metadata": {
    "kernelspec": {
      "display_name": "Python 3",
      "language": "python",
      "name": "python3"
    },
    "language_info": {
      "codemirror_mode": {
        "name": "ipython",
        "version": 3
      },
      "file_extension": ".py",
      "mimetype": "text/x-python",
      "name": "python",
      "nbconvert_exporter": "python",
      "pygments_lexer": "ipython3",
      "version": "3.7.8"
    },
    "colab": {
      "name": "listing-2_06.ipynb",
      "provenance": [],
      "include_colab_link": true
    }
  },
  "cells": [
    {
      "cell_type": "markdown",
      "metadata": {
        "id": "view-in-github",
        "colab_type": "text"
      },
      "source": [
        "<a href=\"https://colab.research.google.com/github/aflores/my-binder-notebooks/blob/main/ch02-highlights.ipynb\" target=\"_parent\"><img src=\"https://colab.research.google.com/assets/colab-badge.svg\" alt=\"Open In Colab\"/></a>"
      ]
    },
    {
      "cell_type": "markdown",
      "metadata": {
        "id": "CDcOMcAZLkMe"
      },
      "source": [
        "This notebook contains selective code from Chapter 2\n",
        "\n",
        "Only what is interesting or new to me\n",
        "\n",
        "The highlights are:\n",
        "\n",
        "- Looks like most of the book is writtend for TF v1.15 (as opposed to v2, the current version) so I will attempt to convert and use TF V2 whenever possible. The '' branch in github contains the V2 equivalent.\n",
        "\n",
        "- I started this project using binder.org but colab is much better: GitHub integration, library support"
      ]
    },
    {
      "cell_type": "code",
      "metadata": {
        "id": "LbkbhuuiJ_CZ"
      },
      "source": [
        "# %pip install tensorflow  # not needed if running in colab as it already loads TF"
      ],
      "execution_count": 21,
      "outputs": []
    },
    {
      "cell_type": "code",
      "metadata": {
        "id": "csNZZEGAJ_Cl",
        "outputId": "9897d5aa-c8d0-413c-bb5d-c6f2be006cf8",
        "colab": {
          "base_uri": "https://localhost:8080/"
        }
      },
      "source": [
        "import tensorflow as tf\n",
        "import os   # build file paths for checkpoint save/restore \n",
        "print(tf.version.VERSION)"
      ],
      "execution_count": 22,
      "outputs": [
        {
          "output_type": "stream",
          "text": [
            "2.3.0\n"
          ],
          "name": "stdout"
        }
      ]
    },
    {
      "cell_type": "markdown",
      "metadata": {
        "id": "roNvekrJNjZD"
      },
      "source": [
        "## The Basics\n",
        "\n",
        "TF variables and operations"
      ]
    },
    {
      "cell_type": "code",
      "metadata": {
        "id": "JH1qk6PZJ_Cp",
        "outputId": "f2dcc4d0-eea7-4a3b-afed-2e3ba198498b",
        "colab": {
          "base_uri": "https://localhost:8080/"
        }
      },
      "source": [
        "m1 = tf.constant([1.,2.])\n",
        "print(m1)"
      ],
      "execution_count": 23,
      "outputs": [
        {
          "output_type": "stream",
          "text": [
            "tf.Tensor([1. 2.], shape=(2,), dtype=float32)\n"
          ],
          "name": "stdout"
        }
      ]
    },
    {
      "cell_type": "code",
      "metadata": {
        "id": "D55_MEOOJ_Cu"
      },
      "source": [
        "negMatrix = tf.negative(m1)"
      ],
      "execution_count": 24,
      "outputs": []
    },
    {
      "cell_type": "code",
      "metadata": {
        "id": "TW-Z1m5qJ_Cx",
        "outputId": "a5c9bc0e-e66c-48f0-d5fe-8fee4515259a",
        "colab": {
          "base_uri": "https://localhost:8080/"
        }
      },
      "source": [
        "print(negMatrix)"
      ],
      "execution_count": 25,
      "outputs": [
        {
          "output_type": "stream",
          "text": [
            "tf.Tensor([-1. -2.], shape=(2,), dtype=float32)\n"
          ],
          "name": "stdout"
        }
      ]
    },
    {
      "cell_type": "code",
      "metadata": {
        "id": "XPeb2UQsJ_C1",
        "outputId": "cd7998df-acdb-466a-d3de-4d355b62b3ff",
        "colab": {
          "base_uri": "https://localhost:8080/"
        }
      },
      "source": [
        "raw_data = [1.,2., 8., -1., 0., 5.5, 6.0, 13]\n",
        "\n",
        "spike = tf.Variable(False)\n",
        "\n",
        "for i in range(1, len(raw_data)):\n",
        "    if raw_data[i] - raw_data[i-1] > 5:\n",
        "        spike = True\n",
        "    else:\n",
        "        spike = False\n",
        "    print(\"Spike: \", spike)"
      ],
      "execution_count": 26,
      "outputs": [
        {
          "output_type": "stream",
          "text": [
            "Spike:  False\n",
            "Spike:  True\n",
            "Spike:  False\n",
            "Spike:  False\n",
            "Spike:  True\n",
            "Spike:  False\n",
            "Spike:  True\n"
          ],
          "name": "stdout"
        }
      ]
    },
    {
      "cell_type": "code",
      "metadata": {
        "id": "MvM8loyYJ_C7",
        "outputId": "618b89da-061a-4144-e3aa-fb68764c734e",
        "colab": {
          "base_uri": "https://localhost:8080/"
        }
      },
      "source": [
        "# paths for save, restore\n",
        "checkpoint_directory = \"/tmp/training_checkpoints\"\n",
        "checkpoint_prefix = os.path.join(checkpoint_directory, \"ckpt\")\n",
        "\n",
        "raw_data = [1., 2., 8., -1., 0., 5.5, 6., 13]\n",
        "spikes = tf.Variable([False] * len(raw_data), name='spikes')\n",
        "# interesting idiom to create multiple copies of a boolean variable by 'multipling' by a number\n",
        " \n",
        "\n",
        "# Here we tell checkpoint what to save \n",
        "checkpoint = tf.train.Checkpoint(spikes=spikes)\n",
        "\n",
        "\n",
        "# A spike occurs when the current \n",
        "for i in range(1, len(raw_data)):\n",
        "    if raw_data[i] - raw_data[i-1] > 5:\n",
        "        spikes[i].assign(True) # before TF v2 you had to create an operation and then evaluate it\n",
        "print(\"\\nBefore save:\\n\",spikes)    \n",
        "\n",
        "save_path = checkpoint.save(file_prefix=checkpoint_prefix)\n",
        "\n",
        "# just change the first item so we can tell that restore works as expected\n",
        "spikes[0].assign(True)\n",
        "spikes[1].assign(True)\n",
        "\n",
        "# spikes = tf.Variable([False] * len(raw_data)) # if you do this, the restore operation does not work. :-o\n",
        "\n",
        "print(\"\\nReseting spikes after save:\\n\", spikes)\n",
        "\n",
        "checkpoint.restore(save_path = save_path)\n",
        "print(\"\\nAnd here is 'spikes' after restoring:\\n\",spikes)"
      ],
      "execution_count": 35,
      "outputs": [
        {
          "output_type": "stream",
          "text": [
            "\n",
            "Before save:\n",
            " <tf.Variable 'spikes:0' shape=(8,) dtype=bool, numpy=array([False, False,  True, False, False,  True, False,  True])>\n",
            "\n",
            "Reseting spikes after save:\n",
            " <tf.Variable 'spikes:0' shape=(8,) dtype=bool, numpy=array([ True,  True,  True, False, False,  True, False,  True])>\n",
            "\n",
            "And here is 'spikes' after restoring:\n",
            " <tf.Variable 'spikes:0' shape=(8,) dtype=bool, numpy=array([False, False,  True, False, False,  True, False,  True])>\n"
          ],
          "name": "stdout"
        }
      ]
    },
    {
      "cell_type": "code",
      "metadata": {
        "id": "o-oWeosLJ_C-",
        "outputId": "d5181e92-7350-4da6-caa8-a3b4ac96a3e3",
        "colab": {
          "base_uri": "https://localhost:8080/"
        }
      },
      "source": [
        "# !ls /tmp/training_checkpoints"
      ],
      "execution_count": 28,
      "outputs": [
        {
          "output_type": "stream",
          "text": [
            "checkpoint  ckpt-1.data-00000-of-00001\tckpt-1.index\n"
          ],
          "name": "stdout"
        }
      ]
    },
    {
      "cell_type": "code",
      "metadata": {
        "id": "vZXX8eqYJ_DF"
      },
      "source": [
        ""
      ],
      "execution_count": 28,
      "outputs": []
    }
  ]
}